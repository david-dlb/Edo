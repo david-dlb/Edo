{
 "cells": [
  {
   "cell_type": "code",
   "execution_count": 1,
   "metadata": {},
   "outputs": [],
   "source": [
    "import numpy as np\n",
    "import matplotlib.pyplot as plt"
   ]
  },
  {
   "cell_type": "code",
   "execution_count": 3,
   "metadata": {},
   "outputs": [],
   "source": [
    "def runge_kutta(f, g, x0, y0, a, b, h):\n",
    "    #This a Runge-Kutta for a 2x2 Jacobi matrix. \n",
    "    t = np.arange(a,b+h,h)\n",
    "    n = len(t)\n",
    "    x = np.zeros(n)\n",
    "    y = np.zeros(n)\n",
    "    x[0] = x0\n",
    "    y[0] = y0\n",
    "    for i in range(n-1):\n",
    "        k1 = f(x[i], y[i], t[i])\n",
    "        l1 = g(x[i], y[i], t[i])\n",
    "       \n",
    "        k2 = h*f(x[i] + k1/2, y[i] + l1/2, t[i]+h/2)\n",
    "        l2 = h*g(x[i] + k1/2, y[i] + l1/2, t[i]+h/2)\n",
    "\n",
    "        k3 = h*f(x[i] + k2/2, y[i] + l2/2, t[i]+h/2)\n",
    "        l3 = h*g(x[i] + k2/2, y[i] + l2/2, t[i]+h/2)\n",
    "        \n",
    "        k4 = h*f(x[i] + k3, y[i] + l3, t[i]+h)\n",
    "        l4 = h*g(x[i] + k3, y[i] + l3, t[i]+h)\n",
    "\n",
    "        x[i+1] = x[i] + (1/6) * (k1 + 2*k2 + 2*k3 +  k4)\n",
    "        y[i+1] = y[i] + (1/6) * (l1 + 2*l2 + 2*l3 +  l4)\n",
    "    return (t,x,y)"
   ]
  },
  {
   "cell_type": "code",
   "execution_count": 20,
   "metadata": {},
   "outputs": [],
   "source": [
    "def runge_kutta_nsystem(funs, x0s, a, b, h):\n",
    "\n",
    "    # Runge-Kutta for a nxn Jacobi matrix.\n",
    "\n",
    "    t = np.arange(a,b+h,h)\n",
    "    n = len(t)\n",
    "    k = len(funs)\n",
    "    l = len(x0s)+1\n",
    "\n",
    "    points = []\n",
    "    for i in range(l):\n",
    "        points.append(np.zeros(n))\n",
    "    for i in range(l-1):\n",
    "        points[i][0] = x0s[i]\n",
    "    # points[l-1] = t\n",
    "    #so far so good \n",
    "    for i in range(n-1):\n",
    "        v1 = []\n",
    "        v2 = []\n",
    "        v3 = []\n",
    "        v4 = []\n",
    "\n",
    "        params = []\n",
    "        for j in range(l):\n",
    "            params.append(points[j][i])\n",
    "        for j in range(k):\n",
    "            v1.append(funs[j](*params))\n",
    "\n",
    "        params = []\n",
    "        for j in range(l-1):\n",
    "            params.append(points[j][i]+v1[j]/2)\n",
    "        params.append(points[l-1][i]+h/2)\n",
    "        for j in range(k):\n",
    "            v2.append(h*funs[j](*params))\n",
    "        \n",
    "        \n",
    "        params = []\n",
    "        for j in range(l-1):\n",
    "            params.append(points[j][i]+v2[j]/2)\n",
    "        params.append(points[l-1][i]+h/2)\n",
    "        for j in range(k):\n",
    "            v3.append(h*funs[j](*params))\n",
    "\n",
    "        params = []\n",
    "        for j in range(l-1):\n",
    "            params.append(points[j][i]+v3[j])\n",
    "        params.append(points[l-1][i]+h)\n",
    "        for j in range(k):\n",
    "            v4.append(h*funs[j](*params))\n",
    "        \n",
    "        for j in range(k):\n",
    "            points[j][i+1] = points[j][i] + (1/6)*(v1[j]+2*v2[j]+2*v3[j]+v4[j])\n",
    "    return (t,points)"
   ]
  }
 ],
 "metadata": {
  "kernelspec": {
   "display_name": "Python 3",
   "language": "python",
   "name": "python3"
  },
  "language_info": {
   "codemirror_mode": {
    "name": "ipython",
    "version": 3
   },
   "file_extension": ".py",
   "mimetype": "text/x-python",
   "name": "python",
   "nbconvert_exporter": "python",
   "pygments_lexer": "ipython3",
   "version": "3.10.7"
  },
  "orig_nbformat": 4
 },
 "nbformat": 4,
 "nbformat_minor": 2
}
