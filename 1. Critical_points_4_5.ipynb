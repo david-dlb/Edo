{
 "cells": [
  {
   "cell_type": "code",
   "execution_count": 1,
   "metadata": {},
   "outputs": [
    {
     "name": "stdout",
     "output_type": "stream",
     "text": [
      "                       _______________________________________________________\n",
      "                      ╱  2  2                                              2  \n",
      "a⋅e + c⋅g⋅h - c⋅i - ╲╱  a ⋅e  - 4⋅a⋅b⋅c⋅e⋅g + 2⋅a⋅c⋅e⋅g⋅h - 2⋅a⋅c⋅e⋅i + 4⋅c ⋅e\n",
      "──────────────────────────────────────────────────────────────────────────────\n",
      "                                                             2⋅c⋅g            \n",
      "\n",
      "_________________________________________________\n",
      "        2  2  2      2          2  2             \n",
      "⋅f⋅g + c ⋅g ⋅h  - 2⋅c ⋅g⋅h⋅i + c ⋅i  + 4⋅c⋅d⋅e⋅g \n",
      "─────────────────────────────────────────────────\n",
      "                                                 \n",
      "                       _______________________________________________________\n",
      "                      ╱  2  2                                              2  \n",
      "a⋅e + c⋅g⋅h - c⋅i + ╲╱  a ⋅e  - 4⋅a⋅b⋅c⋅e⋅g + 2⋅a⋅c⋅e⋅g⋅h - 2⋅a⋅c⋅e⋅i + 4⋅c ⋅e\n",
      "──────────────────────────────────────────────────────────────────────────────\n",
      "                                                             2⋅c⋅g            \n",
      "\n",
      "_________________________________________________\n",
      "        2  2  2      2          2  2             \n",
      "⋅f⋅g + c ⋅g ⋅h  - 2⋅c ⋅g⋅h⋅i + c ⋅i  + 4⋅c⋅d⋅e⋅g \n",
      "─────────────────────────────────────────────────\n",
      "                                                 \n"
     ]
    }
   ],
   "source": [
    "import sympy as sp\n",
    "a, b, c, d, e, f, g, h, i, x, z, l = sp.symbols('a b c d e f g h i x z l')\n",
    "\n",
    "z_component = (a*b - d - a*x) / c\n",
    "x_component = z_component*(e*(f - z_component) + g*x*(h - x) - i*x)\n",
    "\n",
    "x_equation_solution = sp.solve(x_component, x)\n",
    "x_solution_0 = x_equation_solution[0]\n",
    "x_solution_1 = x_equation_solution[1]\n",
    "\n",
    "sp.printing.pretty_print(x_solution_0)\n",
    "sp.printing.pretty_print(x_solution_1)"
   ]
  },
  {
   "attachments": {},
   "cell_type": "markdown",
   "metadata": {},
   "source": [
    "# Javier Lima, David Lezcano Becerra, Alfredo Nuño Oquendo, Alvaro Gónzales Brito, Albaro Suarez."
   ]
  }
 ],
 "metadata": {
  "kernelspec": {
   "display_name": "Python 3",
   "language": "python",
   "name": "python3"
  },
  "language_info": {
   "name": "python",
   "version": "3.8.5 (default, May 27 2021, 13:30:53) \n[GCC 9.3.0]"
  },
  "orig_nbformat": 4,
  "vscode": {
   "interpreter": {
    "hash": "916dbcbb3f70747c44a77c7bcd40155683ae19c65e1c03b4aa3499c5328201f1"
   }
  }
 },
 "nbformat": 4,
 "nbformat_minor": 2
}
