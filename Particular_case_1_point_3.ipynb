{
 "cells": [
  {
   "cell_type": "code",
   "execution_count": 1,
   "metadata": {},
   "outputs": [
    {
     "name": "stdout",
     "output_type": "stream",
     "text": [
      "                 2                  2\n",
      "    c⋅d   c⋅r   d ⋅g   2⋅d⋅g⋅r   g⋅r \n",
      "α - ─── + ─── + ──── - ─────── + ────\n",
      "     a     a      2        2       2 \n",
      "                 a        a       a  \n"
     ]
    }
   ],
   "source": [
    "import sympy as sp\n",
    "# where s is alpha and t is beta\n",
    "a, b, c, d, e, f, g, h, i, x, z, l, r, alpha, beta = sp.symbols('a b c d e f g h i x z l r alpha beta')\n",
    "\n",
    "target = alpha + g*((r - d)/a)**2 + ((r - d)/a)*c\n",
    "\n",
    "expanded = sp.expand(target)\n",
    "sp.pretty_print(expanded)"
   ]
  },
  {
   "attachments": {},
   "cell_type": "markdown",
   "metadata": {},
   "source": [
    "# Javier Lima, David Lezcano Becerra, Alfredo Nuño Oquendo, Alvaro Gónzales Brito, Albaro Suarez."
   ]
  }
 ],
 "metadata": {
  "kernelspec": {
   "display_name": "base",
   "language": "python",
   "name": "python3"
  },
  "language_info": {
   "codemirror_mode": {
    "name": "ipython",
    "version": 3
   },
   "file_extension": ".py",
   "mimetype": "text/x-python",
   "name": "python",
   "nbconvert_exporter": "python",
   "pygments_lexer": "ipython3",
   "version": "3.8.8"
  },
  "orig_nbformat": 4,
  "vscode": {
   "interpreter": {
    "hash": "ab3c9598846bb01a90bc4fb3fb70919349b21f3aac0df0f83a83137ce8a42a56"
   }
  }
 },
 "nbformat": 4,
 "nbformat_minor": 2
}
