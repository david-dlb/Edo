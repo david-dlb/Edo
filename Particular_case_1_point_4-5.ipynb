{
 "cells": [
  {
   "cell_type": "code",
   "execution_count": 1,
   "metadata": {},
   "outputs": [
    {
     "name": "stdout",
     "output_type": "stream",
     "text": [
      "-d + r\n",
      "──────\n",
      "  a   \n",
      "d\n",
      "─\n",
      "c\n",
      "              __________________________________________________________\n",
      "       2     ╱  2  2        2          2      4                         \n",
      "a⋅e + c  - ╲╱  a ⋅e  + 2⋅a⋅c ⋅e + 4⋅α⋅c ⋅g + c  + 4⋅c⋅d⋅e⋅g - 4⋅c⋅e⋅g⋅r \n",
      "────────────────────────────────────────────────────────────────────────\n",
      "                                 2⋅c⋅g                                  \n",
      "                     _________________________________________________________\n",
      "    2               ╱  2  2        2          2      4                        \n",
      "   a ⋅e   a⋅c   a⋅╲╱  a ⋅e  + 2⋅a⋅c ⋅e + 4⋅α⋅c ⋅g + c  + 4⋅c⋅d⋅e⋅g - 4⋅c⋅e⋅g⋅r\n",
      "- ───── - ─── + ──────────────────────────────────────────────────────────────\n",
      "  2⋅c⋅g   2⋅g                                2⋅c⋅g                            \n",
      "──────────────────────────────────────────────────────────────────────────────\n",
      "                                         c                                    \n",
      "\n",
      "_    \n",
      "     \n",
      "     \n",
      "─ + r\n",
      "     \n",
      "─────\n",
      "     \n"
     ]
    }
   ],
   "source": [
    "import sympy as sp\n",
    "a, b, c, d, e, f, g, h, i, x, z, l, r, alpha, beta = sp.symbols('a b c d e f g h i x z l r alpha beta')\n",
    "\n",
    "z_component = (r - d - a*x) / c\n",
    "x_component = z_component*(alpha - e*z_component - g*x**2 + c*x)\n",
    "\n",
    "x_equation_solution = sp.solve(x_component, x)\n",
    "x_solution_0 = x_equation_solution[0]\n",
    "z_solution_0 = sp.expand(r - a * x_solution_0) / c\n",
    "x_solution_1 = x_equation_solution[1]\n",
    "z_solution_1 = sp.expand(r - a * x_solution_1) / c\n",
    "\n",
    "sp.printing.pretty_print(x_solution_0)\n",
    "sp.printing.pretty_print(z_solution_0)\n",
    "sp.printing.pretty_print(x_solution_1)\n",
    "sp.printing.pretty_print(z_solution_1)"
   ]
  },
  {
   "attachments": {},
   "cell_type": "markdown",
   "metadata": {},
   "source": [
    "# Javier Lima, David Lezcano Becerra, Alfredo Nuño Oquendo, Alvaro Gónzales Brito, Albaro Suarez."
   ]
  }
 ],
 "metadata": {
  "kernelspec": {
   "display_name": "base",
   "language": "python",
   "name": "python3"
  },
  "language_info": {
   "codemirror_mode": {
    "name": "ipython",
    "version": 3
   },
   "file_extension": ".py",
   "mimetype": "text/x-python",
   "name": "python",
   "nbconvert_exporter": "python",
   "pygments_lexer": "ipython3",
   "version": "3.8.8 (default, Apr 13 2021, 19:58:26) \n[GCC 7.3.0]"
  },
  "orig_nbformat": 4,
  "vscode": {
   "interpreter": {
    "hash": "ab3c9598846bb01a90bc4fb3fb70919349b21f3aac0df0f83a83137ce8a42a56"
   }
  }
 },
 "nbformat": 4,
 "nbformat_minor": 2
}
