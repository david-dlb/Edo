{
 "cells": [
  {
   "cell_type": "code",
   "execution_count": 1,
   "metadata": {},
   "outputs": [
    {
     "name": "stdout",
     "output_type": "stream",
     "text": [
      "                       _______________________________________________________\n",
      "                      ╱  2  2                                              2  \n",
      "a⋅e + c⋅g⋅h - c⋅i - ╲╱  a ⋅e  - 4⋅a⋅b⋅c⋅e⋅g + 2⋅a⋅c⋅e⋅g⋅h - 2⋅a⋅c⋅e⋅i + 4⋅c ⋅e\n",
      "──────────────────────────────────────────────────────────────────────────────\n",
      "                                                             2⋅c⋅g            \n",
      "\n",
      "_________________________________________________\n",
      "        2  2  2      2          2  2             \n",
      "⋅f⋅g + c ⋅g ⋅h  - 2⋅c ⋅g⋅h⋅i + c ⋅i  + 4⋅c⋅d⋅e⋅g \n",
      "─────────────────────────────────────────────────\n",
      "                                                 \n",
      "                       _______________________________________________________\n",
      "                      ╱  2  2                                              2  \n",
      "a⋅e + c⋅g⋅h - c⋅i + ╲╱  a ⋅e  - 4⋅a⋅b⋅c⋅e⋅g + 2⋅a⋅c⋅e⋅g⋅h - 2⋅a⋅c⋅e⋅i + 4⋅c ⋅e\n",
      "──────────────────────────────────────────────────────────────────────────────\n",
      "                                                             2⋅c⋅g            \n",
      "\n",
      "_________________________________________________\n",
      "        2  2  2      2          2  2             \n",
      "⋅f⋅g + c ⋅g ⋅h  - 2⋅c ⋅g⋅h⋅i + c ⋅i  + 4⋅c⋅d⋅e⋅g \n",
      "─────────────────────────────────────────────────\n",
      "                                                 \n"
     ]
    }
   ],
   "source": [
    "import sympy as sp\n",
    "a, b, c, d, e, f, g, h, i, x, z, l = sp.symbols('a b c d e f g h i x z l')\n",
    "\n",
    "z_component = (a*b - d - a*x) / c\n",
    "x_component = z_component*(e*(f - z_component) + g*x*(h - x) - i*x)\n",
    "\n",
    "x_equation_solution = sp.solve(x_component, x)\n",
    "x_solution_0 = x_equation_solution[0]\n",
    "x_solution_1 = x_equation_solution[1]\n",
    "\n",
    "sp.printing.pretty_print(x_solution_0)\n",
    "sp.printing.pretty_print(x_solution_1)"
   ]
  }
 ],
 "metadata": {
  "language_info": {
   "name": "python"
  },
  "orig_nbformat": 4
 },
 "nbformat": 4,
 "nbformat_minor": 2
}
