{
 "cells": [
  {
   "cell_type": "code",
   "execution_count": 1,
   "metadata": {},
   "outputs": [
    {
     "name": "stdout",
     "output_type": "stream",
     "text": [
      "                                            2    2          \n",
      "-3⋅a⋅α⋅r - 3⋅a⋅β⋅r⋅x + 6⋅a⋅e⋅r⋅z + 3⋅a⋅g⋅r⋅x  + d ⋅i - d⋅i⋅r\n",
      "────────────────────────────────────────────────────────────\n",
      "                   ⎛                     2⎞                 \n",
      "                 a⋅⎝α + β⋅x - 2⋅e⋅z - g⋅x ⎠                 \n"
     ]
    }
   ],
   "source": [
    "import sympy as sp\n",
    "a, b, c, d, e, f, g, h, i, x, z, l, r, alpha, beta = sp.symbols('a b c d e f g h i x z l r alpha beta')\n",
    "\n",
    "x_component = (-d + r)/a\n",
    "z_component = d/c\n",
    "\n",
    "# Finding the eigenvalues\n",
    "jacobian_00 = -2*a*x_component - c*z_component - r - d - l\n",
    "jacobian_01 = -c*x_component\n",
    "jacobian_10 = z_component*(-i)\n",
    "jacobian_11 = alpha - 2*e*z + beta*x - g*x**2\n",
    "\n",
    "product_0 = jacobian_00 * jacobian_11\n",
    "product_1 = jacobian_10 * jacobian_01\n",
    "\n",
    "solution = sp.solve(product_0 - product_1, l)\n",
    "result_0  = solution[0]\n",
    "sp.pretty_print(result_0)"
   ]
  },
  {
   "attachments": {},
   "cell_type": "markdown",
   "metadata": {},
   "source": [
    "# Javier Lima, David Lezcano Becerra, Alfredo Nuño Oquendo, Alvaro Gónzales Brito, Albaro Suarez."
   ]
  }
 ],
 "metadata": {
  "kernelspec": {
   "display_name": "base",
   "language": "python",
   "name": "python3"
  },
  "language_info": {
   "codemirror_mode": {
    "name": "ipython",
    "version": 3
   },
   "file_extension": ".py",
   "mimetype": "text/x-python",
   "name": "python",
   "nbconvert_exporter": "python",
   "pygments_lexer": "ipython3",
   "version": "3.8.8 (default, Apr 13 2021, 19:58:26) \n[GCC 7.3.0]"
  },
  "orig_nbformat": 4,
  "vscode": {
   "interpreter": {
    "hash": "ab3c9598846bb01a90bc4fb3fb70919349b21f3aac0df0f83a83137ce8a42a56"
   }
  }
 },
 "nbformat": 4,
 "nbformat_minor": 2
}
