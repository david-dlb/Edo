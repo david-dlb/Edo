{
 "cells": [
  {
   "cell_type": "code",
   "execution_count": 1,
   "metadata": {},
   "outputs": [],
   "source": [
    "import numpy as np\n",
    "import matplotlib.pyplot as plt"
   ]
  },
  {
   "attachments": {},
   "cell_type": "markdown",
   "metadata": {},
   "source": [
    "# Javier Lima, David Lezcano Becerra, Alfredo Nuño Oquendo, Alvaro Gónzales Brito, Albaro Suarez."
   ]
  },
  {
   "cell_type": "code",
   "execution_count": 33,
   "metadata": {},
   "outputs": [
    {
     "name": "stderr",
     "output_type": "stream",
     "text": [
      "<ipython-input-33-1d9ce3829a08>:24: RuntimeWarning: overflow encountered in double_scalars\n",
      "  value2 = _y[1] * (e * (ff - _y[1]) + g * _y[0] * (hh - _y[0]) - i * _y[0])\n",
      "<ipython-input-33-1d9ce3829a08>:24: RuntimeWarning: invalid value encountered in double_scalars\n",
      "  value2 = _y[1] * (e * (ff - _y[1]) + g * _y[0] * (hh - _y[0]) - i * _y[0])\n"
     ]
    }
   ],
   "source": [
    "coord_range = (0, 20, 1)\n",
    "len_range = coord_range[1] - coord_range[0]\n",
    "a = 2.15\n",
    "b = 5\n",
    "c = 2\n",
    "d = 4.6\n",
    "e = 6.5\n",
    "ff = 9\n",
    "g = 2\n",
    "hh = 5.1\n",
    "i = 5\n",
    "\n",
    "# (ab-d)/c, (gh-i+s)/2g, (ab-d)/a\n",
    "\n",
    "p1 = [0, (a * b - d) / c, 0]\n",
    "p2 = [0, ff, 0]\n",
    "p3 = [(g * hh - i + np.sqrt(4 * e * ff * g + (g * hh - i) ** 2)) / (2 * g), 0, 0]\n",
    "p4 = [(a * b - d) / a, 0, 0]\n",
    "\n",
    "border_points = [[9,4]]\n",
    "\n",
    "def ode_system(_y):\n",
    "    value1 = _y[0] * (a * b * (1 - _y[0] / b) - c * _y[1] - d)\n",
    "    value2 = _y[1] * (e * (ff - _y[1]) + g * _y[0] * (hh - _y[0]) - i * _y[0])\n",
    "    if np.isfinite(value1) and np.isfinite(value1):\n",
    "        return np.array([value1, value2])\n",
    "    return _y\n",
    "\n",
    "def ode_system_x(_y):\n",
    "    return _y[0] * (a * b * (1 - _y[0] / b) - c * _y[1] - d)\n",
    "\n",
    "\n",
    "def ode_system_z(_y):\n",
    "    return _y[1] * (e * (ff - _y[1]) + g * _y[0] * (hh - _y[0]) - i * _y[0])\n",
    "\n",
    "\n",
    "def x_nullcline_function(x):\n",
    "    return (a * b - a * x - d) / c  # returns the z_value.\n",
    "\n",
    "def z_nullcline_function(x):\n",
    "    return (e*ff + g*hh*x - g*(x*x) - i*x)/e\n",
    "\n",
    "def rk4(func, tk, _yk, _dt=0.1, **kwargs):\n",
    "    \"\"\"\n",
    "    single-step fourth-order numerical integration (RK4) method\n",
    "    func: system of first order ODEs\n",
    "    tk: current time step\n",
    "    _yk: current state vector [y1, y2, y3, ...]\n",
    "    _dt: discrete time step size\n",
    "    **kwargs: additional parameters for ODE system\n",
    "    returns: y evaluated at time k+1\n",
    "    \"\"\"\n",
    "    \n",
    "    # evaluate derivative at several stages within time interval\n",
    "    f1 = func(_yk, **kwargs)\n",
    "    f2 = func(_yk + (f1 * (_dt / 2)), **kwargs)\n",
    "    f3 = func(_yk + (f2 * (_dt / 2)), **kwargs)\n",
    "    f4 = func(_yk + (f3 * _dt), **kwargs)\n",
    "    # return an average of the derivative over tk, tk + dt\n",
    "    \n",
    "    if ( np.isfinite(f1[0]) and np.isfinite(f1[1]) and np.isfinite(f2[0]) and np.isfinite(f2[1]) and np.isfinite(f3[0]) and np.isfinite(f3[1]) and np.isfinite(f4[0]) and np.isfinite(f4[1]) ):\n",
    "        return _yk + (_dt / 6) * (f1 + (2 * f2) + (2 * f3) + f4)\n",
    "    else:\n",
    "        return _yk\n",
    "\n",
    "def get_trajectory(y0 = np.array([0,0]), number_steps = 100  ):\n",
    "    state_history = []\n",
    "    yk = y0\n",
    "    t = 0\n",
    "    for t in range(0, number_steps):\n",
    "        state_history.append(yk)\n",
    "        yk = rk4(ode_system, t, yk, 0.01) \n",
    "\n",
    "    state_history = np.array(state_history)\n",
    "    state_history = [ (p[0], p[1], 0) for p in state_history if np.isfinite(p[0]) and np.isfinite(p[1])]\n",
    "    return state_history\n",
    "    \n",
    "values = get_trajectory(np.array([9, 4]))"
   ]
  },
  {
   "cell_type": "code",
   "execution_count": 35,
   "metadata": {},
   "outputs": [
    {
     "data": {
      "text/plain": [
       "<matplotlib.legend.Legend at 0x7f30c59e7970>"
      ]
     },
     "execution_count": 35,
     "metadata": {},
     "output_type": "execute_result"
    },
    {
     "data": {
      "image/png": "[encoded data removed]",
      "text/plain": [
       "<Figure size 432x288 with 1 Axes>"
      ]
     },
     "metadata": {
      "needs_background": "light"
     },
     "output_type": "display_data"
    }
   ],
   "source": [
    "fig = plt.figure()\n",
    "ax = fig.add_subplot(1, 1, 1)\n",
    "ax.plot(values[0], values[1], '-b', label='y Vs x')\n",
    "ax.set_title('Grafico')\n",
    "ax.set_label('X')\n",
    "ax.set_label('Eje Y')\n",
    "ax.legend(loc=2) "
   ]
  }
 ],
 "metadata": {
  "kernelspec": {
   "display_name": "base",
   "language": "python",
   "name": "python3"
  },
  "language_info": {
   "codemirror_mode": {
    "name": "ipython",
    "version": 3
   },
   "file_extension": ".py",
   "mimetype": "text/x-python",
   "name": "python",
   "nbconvert_exporter": "python",
   "pygments_lexer": "ipython3",
   "version": "3.8.8"
  },
  "orig_nbformat": 4,
  "vscode": {
   "interpreter": {
    "hash": "ab3c9598846bb01a90bc4fb3fb70919349b21f3aac0df0f83a83137ce8a42a56"
   }
  }
 },
 "nbformat": 4,
 "nbformat_minor": 2
}
