{
 "cells": [
  {
   "cell_type": "code",
   "execution_count": 1,
   "metadata": {},
   "outputs": [
    {
     "name": "stdout",
     "output_type": "stream",
     "text": [
      "                 2                  2\n",
      "    c⋅d   c⋅r   d ⋅g   2⋅d⋅g⋅r   g⋅r \n",
      "α - ─── + ─── + ──── - ─────── + ────\n",
      "     a     a      2        2       2 \n",
      "                 a        a       a  \n"
     ]
    }
   ],
   "source": [
    "import sympy as sp\n",
    "# where s is alpha and t is beta\n",
    "a, b, c, d, e, f, g, h, i, x, z, l, r, alpha, beta = sp.symbols('a b c d e f g h i x z l r alpha beta')\n",
    "\n",
    "target = alpha + g*((r - d)/a)**2 + ((r - d)/a)*c\n",
    "\n",
    "expanded = sp.expand(target)\n",
    "sp.pretty_print(expanded)"
   ]
  }
 ],
 "metadata": {
  "language_info": {
   "name": "python"
  },
  "orig_nbformat": 4
 },
 "nbformat": 4,
 "nbformat_minor": 2
}
