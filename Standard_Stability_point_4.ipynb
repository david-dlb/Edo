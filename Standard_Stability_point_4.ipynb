{
 "cells": [
  {
   "cell_type": "code",
   "execution_count": 1,
   "metadata": {},
   "outputs": [
    {
     "name": "stdout",
     "output_type": "stream",
     "text": [
      "             d⋅i\n",
      "-b⋅i + e⋅f + ───\n",
      "              a \n"
     ]
    }
   ],
   "source": [
    "import sympy as sp\n",
    "a, b, c, d, e, f, g, h, i, x, z, l = sp.symbols('a b c d e f g h i x z l')\n",
    "\n",
    "x_component = a*e + c*(g*h - i) + (a**2*e**2 - 2*a*c*e*(2*b*g - g*h + i) + c**2*(4*e*f*g + (g*h - i)**2) + 4*c*d*e*g)**(1/2)\n",
    "\n",
    "z_component = ((a*b - d) - a*x_component)/c\n",
    "\n",
    "# Finding the eigenvalues\n",
    "jacobian_00 = -2*a*x_component - c*z_component - a*b - d - l\n",
    "jacobian_01 = -c*x_component\n",
    "jacobian_10 = z_component*(g*h - 2*g*x_component - i)\n",
    "jacobian_11 = e*f - 2*e*z_component - g*x_component**2 + (g*h - i)*x_component - l\n",
    "\n",
    "product_0 = jacobian_00 * jacobian_11\n",
    "product_1 = jacobian_10 * jacobian_01\n",
    "\n",
    "solution = sp.solve(product_0 - product_1, l)\n",
    "result_0  = solution[0]\n",
    "result_1 = solution[1]\n",
    "sp.pretty_print(result_0)"
   ]
  }
 ],
 "metadata": {
  "kernelspec": {
   "display_name": "base",
   "language": "python",
   "name": "python3"
  },
  "language_info": {
   "codemirror_mode": {
    "name": "ipython",
    "version": 3
   },
   "file_extension": ".py",
   "mimetype": "text/x-python",
   "name": "python",
   "nbconvert_exporter": "python",
   "pygments_lexer": "ipython3",
   "version": "3.8.8"
  },
  "orig_nbformat": 4,
  "vscode": {
   "interpreter": {
    "hash": "ab3c9598846bb01a90bc4fb3fb70919349b21f3aac0df0f83a83137ce8a42a56"
   }
  }
 },
 "nbformat": 4,
 "nbformat_minor": 2
}
